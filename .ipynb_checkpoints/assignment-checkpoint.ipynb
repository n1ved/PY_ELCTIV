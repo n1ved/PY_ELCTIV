{
 "cells": [
  {
   "cell_type": "code",
   "execution_count": 1,
   "id": "8c022710-747d-41ad-b00a-c7396de7bea6",
   "metadata": {},
   "outputs": [
    {
     "name": "stdin",
     "output_type": "stream",
     "text": [
      "Enter N :  5\n"
     ]
    },
    {
     "name": "stdout",
     "output_type": "stream",
     "text": [
      "+x^1/1!-x^3/3!+x^5/5!"
     ]
    }
   ],
   "source": [
    "#Print the sin series x-x^3/3!+x^5/5!....x^n/n! ( read n.)\n",
    "\n",
    "n = int(input(\"Enter N : \"))\n",
    "signkeeper = True\n",
    "for i in range(1,n+1):\n",
    "    i = (2*i - 1)\n",
    "    if(i>n):\n",
    "        break\n",
    "    sign = '+' if signkeeper else '-'\n",
    "    signkeeper = False if signkeeper else True\n",
    "    print(\"{sign}x^{arg1}/{arg2}!\".format(sign = sign , arg1 = i , arg2 = i),end='')"
   ]
  },
  {
   "cell_type": "code",
   "execution_count": 2,
   "id": "217c28bd-1f1a-492e-bb0c-abc307b7e5b0",
   "metadata": {},
   "outputs": [
    {
     "name": "stdin",
     "output_type": "stream",
     "text": [
      "Enter X :  1\n"
     ]
    },
    {
     "name": "stdout",
     "output_type": "stream",
     "text": [
      "Result :0.8416666666666667\n"
     ]
    }
   ],
   "source": [
    "# In the above program read the value x and find the sum of the series.(Use factorial function from math)\n",
    "import math\n",
    "signkeeper = True\n",
    "result = 0\n",
    "x = int(input(\"Enter X : \"))\n",
    "for i in range(1,n+1):\n",
    "    i = (2*i - 1)\n",
    "    if(i>n):\n",
    "        break\n",
    "    if(signkeeper):\n",
    "        result = result + (x**i/math.factorial(i))\n",
    "    else:\n",
    "        result = result - (x**i/math.factorial(i))\n",
    "    signkeeper = False if signkeeper else True\n",
    "print(\"Result :\" + str(result))\n",
    "    "
   ]
  },
  {
   "cell_type": "code",
   "execution_count": 9,
   "id": "2f723eb0-45d3-4970-bca2-b7a739a2cda5",
   "metadata": {},
   "outputs": [
    {
     "name": "stdin",
     "output_type": "stream",
     "text": [
      "Enter N :  5\n"
     ]
    },
    {
     "name": "stdout",
     "output_type": "stream",
     "text": [
      "* \n",
      "* * \n",
      "* * * \n",
      "* * * * \n",
      "* * * * * \n",
      "1 \n",
      "1 2 \n",
      "1 2 3 \n",
      "1 2 3 4 \n",
      "1 2 3 4 5 \n"
     ]
    }
   ],
   "source": [
    "'''\n",
    "3.Print the following patterns\n",
    "\n",
    "  *\n",
    "  * *\n",
    "  * * *\n",
    "  * * * *\n",
    "  1\n",
    "  1 2\n",
    "  1 2 3\n",
    "  1 2 3 4\n",
    "\n",
    "The pyramid is given for n=4 do this for any n\n",
    "'''\n",
    "n = int(input(\"Enter N : \"))\n",
    "for i in range(1,n+1):\n",
    "    for j in range(0,i):\n",
    "        print(\"*\",end=\" \")\n",
    "    print()\n",
    "for i in range(1,n+1):\n",
    "    for j in range(0,i):\n",
    "        print(j+1,end=\" \")\n",
    "    print()"
   ]
  },
  {
   "cell_type": "code",
   "execution_count": 23,
   "id": "bdc58a41-cc29-410b-ade8-3cb4512f587f",
   "metadata": {},
   "outputs": [
    {
     "name": "stdin",
     "output_type": "stream",
     "text": [
      "Enter number :  546\n"
     ]
    },
    {
     "name": "stdout",
     "output_type": "stream",
     "text": [
      "['5', '4', '6']\n",
      "largest number is at position 3\n"
     ]
    }
   ],
   "source": [
    "# 4. Find the position of the largest digit in a number.( consider unique digits)\n",
    "# Eg: i/p : 546  largest digit=6 position =3\n",
    "num = input(\"Enter number : \")\n",
    "numlist = []\n",
    "for c in num:\n",
    "    numlist.append(c)\n",
    "largest = 0\n",
    "for i in range(0,len(numlist)):\n",
    "    if(int(numlist[i])>int(numlist[largest])):\n",
    "        largest = i\n",
    "print(numlist)\n",
    "print(\"largest number is at position \" + str(largest+1))"
   ]
  },
  {
   "cell_type": "code",
   "execution_count": 27,
   "id": "d240c6c0-1e0f-4547-97b0-931326bcdec5",
   "metadata": {},
   "outputs": [
    {
     "name": "stdin",
     "output_type": "stream",
     "text": [
      "Enter number :  153\n"
     ]
    },
    {
     "name": "stdout",
     "output_type": "stream",
     "text": [
      "153 is an Armstrong number\n"
     ]
    }
   ],
   "source": [
    "'''\n",
    "5. Positive integer is called an Armstrong number of order n if \n",
    "abcd….= a^n + b^n + c^n + d^n +  where n is the length of the number\n",
    "Eg: 153 = 1*1*1 + 5*5*5 + 3*3*3 // 153 is an Armstrong Number.\n",
    "Eg:1634= 1**4+6**4+3**4+4**4=1634 //1634 is an Armstrong Number.\n",
    "'''\n",
    "\n",
    "num = input(\"Enter number : \")\n",
    "numlist = []\n",
    "for c in num:\n",
    "    numlist.append(c)\n",
    "digits = len(numlist)\n",
    "result = 0\n",
    "for d in numlist:\n",
    "    result = result + int(d)**digits\n",
    "if(result == int(num)):\n",
    "    print(num + \" is an Armstrong number\")\n",
    "else:\n",
    "    print(num + \" is not an Armstrong number\")"
   ]
  },
  {
   "cell_type": "code",
   "execution_count": 6,
   "id": "b9577a58-cd4a-47ca-a5d0-3126c1993a8e",
   "metadata": {},
   "outputs": [
    {
     "name": "stdout",
     "output_type": "stream",
     "text": [
      "square root with of 55 is 7.416198487095663\n"
     ]
    }
   ],
   "source": [
    "# Find the square root of a number using Newton’s method ( refer the text book/blog for reference)\n",
    "def newton(N, y=1, itr=100):\n",
    "    x = y\n",
    "    for i in range(itr):\n",
    "        x = 0.5 * (x + N/x)\n",
    "    return x\n",
    "print(\"square root with of 55 is \" + str(newton(55)))"
   ]
  },
  {
   "cell_type": "code",
   "execution_count": 13,
   "id": "75248191-ce0b-4f62-99b5-4ed85f7fbd4a",
   "metadata": {},
   "outputs": [
    {
     "name": "stdin",
     "output_type": "stream",
     "text": [
      "Initial amount :  10000\n",
      "Period (years) :  5\n",
      "Interest :  5\n"
     ]
    },
    {
     "name": "stdout",
     "output_type": "stream",
     "text": [
      "year\tstarting balance\tinterest\tending balance\n",
      "1\t10000.00\t\t500.00\t\t10500.00\n",
      "2\t10500.00\t\t525.00\t\t11025.00\n",
      "3\t11025.00\t\t551.25\t\t11576.25\n",
      "4\t11576.25\t\t578.81\t\t12155.06\n",
      "5\t12155.06\t\t607.75\t\t12762.82\n",
      "Ending Balance : 12762.815625\n",
      "Total Interest Earned : 2762.815625\n"
     ]
    }
   ],
   "source": [
    "'''\n",
    "Write a program that computes an investment report.\n",
    "Analysis\n",
    "The inputs to this program are the following:\n",
    "An initial amount to be invested (a floating-point number)\n",
    "A period of years (an integer)\n",
    "An interest rate (a percentage expressed as an integer)\n",
    "'''\n",
    "\n",
    "init_amt = float(input(\"Initial amount : \"))\n",
    "years = int(input(\"Period (years) : \"))\n",
    "intrest_percent = int(input(\"Interest : \"))\n",
    "print(\"year\\tstarting balance\\tinterest\\tending balance\")\n",
    "sum_int = 0\n",
    "for i in range(1,years+1):\n",
    "    print(i,end=\"\\t\")\n",
    "    print(format(init_amt,\".2f\"),end=\"\\t\\t\")\n",
    "    interest = init_amt/100 * intrest_percent\n",
    "    print(format(interest,\".2f\"),end=\"\\t\\t\")\n",
    "    init_amt = init_amt + interest\n",
    "    print(format(init_amt,\".2f\"))\n",
    "    sum_int = sum_int + interest\n",
    "print(\"Ending Balance : \" + str(init_amt))\n",
    "print(\"Total Interest Earned : \"+str(sum_int))\n"
   ]
  },
  {
   "cell_type": "code",
   "execution_count": 18,
   "id": "823a780e-a798-41ef-87ab-1ec571f597b2",
   "metadata": {},
   "outputs": [
    {
     "name": "stdin",
     "output_type": "stream",
     "text": [
      "Enter number :  145\n"
     ]
    },
    {
     "name": "stdout",
     "output_type": "stream",
     "text": [
      "145 is a Krishnamurthy Number\n"
     ]
    }
   ],
   "source": [
    "# Check whether the given number is a Krishnamurti number (.Use factorial () function from math)\n",
    "# For example: 145 = 1! + 4! + 5! = 1 + 24 + 120 = 145 is a Krishnamurthy Number\n",
    "import math\n",
    "num = input(\"Enter number : \")\n",
    "numlist = []\n",
    "for c in num:\n",
    "    numlist.append(c)\n",
    "sumc = 0\n",
    "\n",
    "for n in numlist:\n",
    "    sumc = sumc + math.factorial(int(n))\n",
    "\n",
    "if(sumc == int(num)):\n",
    "    print(num + \" is a Krishnamurthy Number\")\n",
    "else:\n",
    "    print(num + \" is not a Krishnamurthy Number\")"
   ]
  },
  {
   "cell_type": "code",
   "execution_count": 27,
   "id": "e0729192-478f-44ed-af1a-494fa29b48cc",
   "metadata": {},
   "outputs": [
    {
     "name": "stdin",
     "output_type": "stream",
     "text": [
      "Enter limit :  1000\n"
     ]
    },
    {
     "name": "stdout",
     "output_type": "stream",
     "text": [
      "2 3 5 7 11 13 17 19 23 29 31 37 41 43 47 53 59 61 67 71 73 79 83 89 97 101 103 107 109 113 127 131 137 139 149 151 157 163 167 173 179 181 191 193 197 199 211 223 227 229 233 239 241 251 257 263 269 271 277 281 283 293 307 311 313 317 331 337 347 349 353 359 367 373 379 383 389 397 401 409 419 421 431 433 439 443 449 457 461 463 467 479 487 491 499 503 509 521 523 541 547 557 563 569 571 577 587 593 599 601 607 613 617 619 631 641 643 647 653 659 661 673 677 683 691 701 709 719 727 733 739 743 751 757 761 769 773 787 797 809 811 821 823 827 829 839 853 857 859 863 877 881 883 887 907 911 919 929 937 941 947 953 967 971 977 983 991 997 "
     ]
    }
   ],
   "source": [
    "# Print all prime numbers less than 1000.\n",
    "n = int(input(\"Enter limit : \"))\n",
    "is_prime = True\n",
    "for i in range(2,n+1):\n",
    "    for j in range(2,n//2 +1):\n",
    "        if(i == j):\n",
    "            continue\n",
    "        if(i%j == 0):\n",
    "            is_prime = False\n",
    "    if(is_prime):\n",
    "        print(i , end=\" \")\n",
    "    is_prime = True"
   ]
  },
  {
   "cell_type": "code",
   "execution_count": 29,
   "id": "7a667432-b276-4ff8-bfb1-0f8d8ac5f5d3",
   "metadata": {},
   "outputs": [
    {
     "name": "stdin",
     "output_type": "stream",
     "text": [
      "Enter a number 55\n"
     ]
    },
    {
     "name": "stdout",
     "output_type": "stream",
     "text": [
      "One Four Five \n"
     ]
    }
   ],
   "source": [
    "# 10. Input a number and print it in words ( i/p:345 o/p: Three Four Five)\n",
    "def stringifydigit(digit):\n",
    "    match digit:\n",
    "        case 0:\n",
    "            return \"Zero\"\n",
    "            break\n",
    "        case 1:\n",
    "            return \"One\"\n",
    "            break\n",
    "        case 2:\n",
    "            return \"Two\"\n",
    "            break\n",
    "        case 3:\n",
    "            return \"Three\"\n",
    "            break\n",
    "        case 4:\n",
    "            return \"Four\"\n",
    "            break\n",
    "        case 5:\n",
    "            return \"Five\"\n",
    "            break\n",
    "        case 6:\n",
    "            return \"Six\"\n",
    "            break\n",
    "        case 7:\n",
    "            return \"Seven\"\n",
    "            break\n",
    "        case 8:\n",
    "            return \"Eight\"\n",
    "            break\n",
    "        case 9:\n",
    "            return \"Nine\"\n",
    "            break\n",
    "        case 10:\n",
    "            return \"Ten\"\n",
    "            break\n",
    "\n",
    "n = input(\"Enter a number\")\n",
    "numlist = []\n",
    "for c in num:\n",
    "    numlist.append(c)\n",
    "\n",
    "for d in numlist:\n",
    "    print(stringifydigit(int(d)),end=\" \")\n",
    "print()"
   ]
  },
  {
   "cell_type": "code",
   "execution_count": null,
   "id": "4b608c69-cde1-43a8-ae75-b3605e2a8d1d",
   "metadata": {},
   "outputs": [],
   "source": []
  }
 ],
 "metadata": {
  "kernelspec": {
   "display_name": "Python 3 (ipykernel)",
   "language": "python",
   "name": "python3"
  },
  "language_info": {
   "codemirror_mode": {
    "name": "ipython",
    "version": 3
   },
   "file_extension": ".py",
   "mimetype": "text/x-python",
   "name": "python",
   "nbconvert_exporter": "python",
   "pygments_lexer": "ipython3",
   "version": "3.12.8"
  }
 },
 "nbformat": 4,
 "nbformat_minor": 5
}
