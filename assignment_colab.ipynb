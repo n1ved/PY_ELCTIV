{
 "cells": [
  {
   "cell_type": "code",
   "execution_count": null,
   "metadata": {
    "colab": {
     "base_uri": "https://localhost:8080/"
    },
    "id": "CVEHD-vnKI0Q",
    "outputId": "c307e33e-2967-46d1-df50-d0bca9f60a4f"
   },
   "outputs": [
    {
     "name": "stdout",
     "output_type": "stream",
     "text": [
      "15\n",
      "43\n",
      "58\n"
     ]
    }
   ],
   "source": [
    "# solve using lambda functions\n",
    "f1=lambda x:x^2+3*x+5\n",
    "print(f1(2))\n",
    "f2=lambda x,y:x^2*y+5*x*y+6\n",
    "print(f2(3,2))\n",
    "print(f1(2)+f2(3,2))"
   ]
  },
  {
   "cell_type": "code",
   "execution_count": 3,
   "metadata": {
    "colab": {
     "base_uri": "https://localhost:8080/"
    },
    "id": "e8ZkEIXxKn76",
    "outputId": "9a403ecc-ed78-43b2-db7a-80805e1da1eb"
   },
   "outputs": [
    {
     "name": "stdout",
     "output_type": "stream",
     "text": [
      "[(55, 'nived'), (56, 'charles'), (57, 'bibit')]\n",
      "[(57, 'bibit'), (56, 'charles'), (55, 'nived')]\n"
     ]
    }
   ],
   "source": [
    "# Operations on lists\n",
    "list_n=[(55,'nived'),(56,'charles'),(57,'bibit')]\n",
    "\n",
    "sort_r = sorted(list_n, key=lambda x:x[0])\n",
    "print(sort_r)\n",
    "\n",
    "sort_n = sorted(list_n, key=lambda x:x[1])\n",
    "print(sort_n)"
   ]
  },
  {
   "cell_type": "code",
   "execution_count": 5,
   "metadata": {
    "colab": {
     "base_uri": "https://localhost:8080/"
    },
    "id": "NDEUBiFDK9l0",
    "outputId": "4f73e8ae-891c-4a9e-a0b4-5c9d6e365f38"
   },
   "outputs": [
    {
     "name": "stdout",
     "output_type": "stream",
     "text": [
      "List : [27, 5, 31, 55, 27, 91, 43, 75, 23, 99]\n",
      "Cubes :  [19683, 125, 29791, 166375, 19683, 753571, 79507, 421875, 12167, 970299]\n",
      "divisible by 3 :  [27, 27, 75, 99]\n"
     ]
    }
   ],
   "source": [
    "# Create list of odd number , find cube and which are divisible by 3\n",
    "import random\n",
    "list_o = []\n",
    "for i in range(0,10):\n",
    "   list_o.append(random.randint(1,50)*2 + 1)\n",
    "print(\"List :\", list_o)\n",
    "\n",
    "cube = map(lambda x:x**3, list_o)\n",
    "print(\"Cubes : \", list(cube))\n",
    "\n",
    "divis = filter(lambda x:x%3==0, list_o)\n",
    "print(\"divisible by 3 : \", list(divis))"
   ]
  },
  {
   "cell_type": "code",
   "execution_count": 9,
   "metadata": {
    "colab": {
     "base_uri": "https://localhost:8080/"
    },
    "id": "ULylcI41M3FF",
    "outputId": "d0d5d462-3406-4026-d422-197a91503d72"
   },
   "outputs": [
    {
     "name": "stdout",
     "output_type": "stream",
     "text": [
      "False\n",
      "2 3 5 7 11 13 17 19 23 29 31 37 41 43 47 53 59 61 67 71 73 79 83 89 97 "
     ]
    }
   ],
   "source": [
    "#  Write a function prime (n) which will return True if the number is prime or else False , using function print prime numbers less than 100\n",
    "def isprime(n):\n",
    "   if n < 2:\n",
    "       return False\n",
    "   for i in range(2,n//2 + 1):\n",
    "      if n%i == 0:\n",
    "          return False\n",
    "   return True\n",
    "\n",
    "print(isprime(55))\n",
    "\n",
    "for i in range(1,100):\n",
    "    if(isprime(i)):\n",
    "        print(i,end=\" \")"
   ]
  },
  {
   "cell_type": "code",
   "execution_count": null,
   "metadata": {
    "colab": {
     "base_uri": "https://localhost:8080/"
    },
    "id": "tVlDkgy8NdbL",
    "outputId": "7a930c27-27b0-4f70-c9fb-821d0ffa717d"
   },
   "outputs": [
    {
     "name": "stdout",
     "output_type": "stream",
     "text": [
      "Enter N:55\n",
      "Enter R:5\n",
      "nCr Result : 3478761.0\n"
     ]
    }
   ],
   "source": [
    "# Write a recursive function to find the factorial of a given number and find nCr using it\n",
    "\n",
    "def fact(n):\n",
    "    if n==0 or n==1:\n",
    "        return 1\n",
    "    else:\n",
    "        return n*fact(n-1)\n",
    "def ncr(n,r):\n",
    "    return fact(n)/(fact(r)*fact(n-r))\n",
    "n=int(input(\"Enter N:\"))\n",
    "r=int(input(\"Enter R:\"))\n",
    "print(\"nCr Result :\", ncr(n,r))"
   ]
  },
  {
   "cell_type": "code",
   "execution_count": null,
   "metadata": {
    "colab": {
     "base_uri": "https://localhost:8080/"
    },
    "id": "vzMUxcBVOBQw",
    "outputId": "df74bdb3-88fd-48cf-c45c-8b4b18807efe"
   },
   "outputs": [
    {
     "name": "stdout",
     "output_type": "stream",
     "text": [
      "Enter Limit:10\n",
      "0 1 1 2 3 5 8 13 21 34 "
     ]
    }
   ],
   "source": [
    "#  Write a recursive function to find the n’th Fibonacci number  & Print fibanocchi series\n",
    "def fibn(n):\n",
    "    if n<=1:\n",
    "        return n\n",
    "    else:\n",
    "        return fibn(n-1)+fibn(n-2)\n",
    "n=int(input(\"Enter Limit:\"))\n",
    "for i in range(n):\n",
    "    print(fibn(i),end=\" \")"
   ]
  },
  {
   "cell_type": "code",
   "execution_count": null,
   "metadata": {
    "colab": {
     "base_uri": "https://localhost:8080/"
    },
    "id": "t9tas_4MOsxv",
    "outputId": "529e7a1e-487e-439f-bc0a-ab5b84e28c5f"
   },
   "outputs": [
    {
     "name": "stdout",
     "output_type": "stream",
     "text": [
      "Enter the number:55\n",
      "Sum of digits are  10\n"
     ]
    }
   ],
   "source": [
    "# Use a recursive function to find the sum of the digits of a number. \n",
    "def sumdigit(n):\n",
    "    if n<10:\n",
    "        return n\n",
    "    else:\n",
    "        return n%10+sumdigit(n//10)\n",
    "n=int(input(\"Enter the number:\"))\n",
    "print(\"Sum of digits are \",sumdigit(n))"
   ]
  },
  {
   "cell_type": "code",
   "execution_count": 13,
   "metadata": {
    "colab": {
     "base_uri": "https://localhost:8080/"
    },
    "id": "d0jeSglNO_sO",
    "outputId": "92e8c6de-a1c0-4ca7-a67b-0755aebec86a"
   },
   "outputs": [
    {
     "name": "stdout",
     "output_type": "stream",
     "text": [
      "[33, 8, 40, 27, 50]\n",
      "largest : 50\n"
     ]
    }
   ],
   "source": [
    "# Write a function which will take n numbers as argument and return the largest element. \n",
    "def largest(nums):\n",
    "    res = nums[0]\n",
    "    for i in nums:\n",
    "        res = i if i > res else res\n",
    "    return res\n",
    "nums=[]\n",
    "for _ in range(0,5):\n",
    "    nums.append(random.randint(0,50))\n",
    "print(nums)\n",
    "print(\"largest : \" + str(largest(nums)))"
   ]
  },
  {
   "cell_type": "code",
   "execution_count": null,
   "metadata": {
    "colab": {
     "base_uri": "https://localhost:8080/"
    },
    "id": "qpqhatvsQRzc",
    "outputId": "b1124581-d7ad-47cf-d18c-f061c51dca14"
   },
   "outputs": [
    {
     "name": "stdout",
     "output_type": "stream",
     "text": [
      "Enter a number: 55\n",
      "BCD of 55 is: 0101 0101 \n"
     ]
    }
   ],
   "source": [
    "# \n",
    "def binary(n):\n",
    "    if n == 0:\n",
    "        return \"0000\"\n",
    "    bin = \"\"\n",
    "    while n > 0:\n",
    "        bin = str(n % 2) + bin\n",
    "        n = n // 2\n",
    "    while len(bin) < 4:\n",
    "        bin = \"0\" + bin\n",
    "    return bin\n",
    "\n",
    "def bcd(num):\n",
    "    digits = str(num)\n",
    "    result = \"\"\n",
    "    for digit in digits:\n",
    "        result += binary(int(digit)) + \" \"\n",
    "    return result\n",
    "number = int(input(\"Enter a number: \"))\n",
    "print(f\"BCD of {number} is: {bcd(number)}\")"
   ]
  },
  {
   "cell_type": "code",
   "execution_count": null,
   "metadata": {
    "id": "1Kw_pPh_Qbao"
   },
   "outputs": [],
   "source": [
    "\n",
    "def write_random_ints(filename):\n",
    "    fp = open(filename,'w')\n",
    "    for _ in range(0,10):\n",
    "        fp.write(str(random.randint(0,20)) + '\\n')\n",
    "    fp.close()\n",
    "def read_file(filename):\n",
    "    fp = open(filename,'r')\n",
    "    read_buf = fp.read()\n",
    "    fp.close()\n",
    "    return read_buf"
   ]
  },
  {
   "cell_type": "code",
   "execution_count": null,
   "metadata": {
    "colab": {
     "base_uri": "https://localhost:8080/"
    },
    "id": "761UX_TeTEb_",
    "outputId": "5fff1e91-0ccc-4200-80a6-ef8d8072fe28"
   },
   "outputs": [
    {
     "name": "stdout",
     "output_type": "stream",
     "text": [
      "20\n",
      "20\n",
      "8\n",
      "3\n",
      "8\n",
      "5\n",
      "14\n",
      "19\n",
      "17\n",
      "3\n",
      "\n"
     ]
    }
   ],
   "source": [
    "write_random_ints(\"numbers.dat\")\n",
    "print(read_file(\"numbers.dat\"))"
   ]
  },
  {
   "cell_type": "code",
   "execution_count": null,
   "metadata": {
    "colab": {
     "base_uri": "https://localhost:8080/"
    },
    "id": "yYqKdG0aTVLQ",
    "outputId": "6ebe424c-9e2a-4cf3-af04-962439b67ea1"
   },
   "outputs": [
    {
     "name": "stdout",
     "output_type": "stream",
     "text": [
      "3\n",
      "5\n",
      "8\n",
      "14\n",
      "17\n",
      "19\n",
      "20\n",
      "\n"
     ]
    }
   ],
   "source": [
    "r_file = open(\"numbers.dat\" , \"r\")\n",
    "w_file = open(\"copy.dat\",\"w\")\n",
    "\n",
    "r_bfr = r_file.readlines()\n",
    "bfr_list = []\n",
    "for line in r_bfr:\n",
    "    if line.strip():\n",
    "        bfr_list.append(int(line.strip()))\n",
    "nd_bfr_list = []\n",
    "for i in bfr_list:\n",
    "    if i not in nd_bfr_list:\n",
    "        nd_bfr_list.append(i)\n",
    "nd_bfr_list.sort()\n",
    "for i in nd_bfr_list:\n",
    "    w_file.write(str(i) + '\\n')\n",
    "\n",
    "r_file.close()\n",
    "w_file.close()\n",
    "print(read_file(\"copy.dat\"))"
   ]
  },
  {
   "cell_type": "code",
   "execution_count": null,
   "metadata": {
    "colab": {
     "base_uri": "https://localhost:8080/"
    },
    "id": "sQD48xkZVyEq",
    "outputId": "5bc05560-055e-4b9e-c05e-d1fc4f85a11f"
   },
   "outputs": [
    {
     "name": "stdout",
     "output_type": "stream",
     "text": [
      "3\n",
      "5\n",
      "19\n",
      "17\n",
      "3\n",
      "\n"
     ]
    }
   ],
   "source": [
    "def is_prime(num):\n",
    "    if num<2:\n",
    "        return False\n",
    "    for i in range(2, num//2 + 1):\n",
    "        if num % i == 0:\n",
    "            return False\n",
    "    return True\n",
    "\n",
    "r_file = open(\"numbers.dat\",\"r\")\n",
    "p_file = open(\"prime.dat\",\"w\")\n",
    "c_file = open(\"comp.dat\",\"w\")\n",
    "\n",
    "read_bfr = r_file.readlines()\n",
    "for line in read_bfr:\n",
    "    if line.strip():\n",
    "       num = int(line)\n",
    "       if(is_prime(num)):\n",
    "           p_file.write(line)\n",
    "       else:\n",
    "           c_file.write(line)\n",
    "r_file.close()\n",
    "p_file.close()\n",
    "c_file.close()\n",
    "print(read_file(\"prime.dat\"))"
   ]
  },
  {
   "cell_type": "code",
   "execution_count": null,
   "metadata": {
    "id": "J7GkN-_PZI0m"
   },
   "outputs": [],
   "source": [
    "gp = open(\"paragraph.txt\",\"w\")\n",
    "gp.write(\"Untitled Goose Game is a 2019 indie puzzle stealth video game developed by House House and published by Panic Inc. Players control a goose which bothers the inhabitants of an English village. Players must use the goose's abilities to manipulate objects and non-player characters to complete objectives. Inspired by Super Mario 64 and the Hitman series, the game combines stealth mechanics with a lack of violence to create humorous scenarios. It was released for macOS, the Nintendo Switch, Windows, the PlayStation 4, and the Xbox One. The game's unusual name came from a last-minute decision during preparation for entry to a games festival. The music uses short clips from six of Claude Debussy's Préludes. Untitled Goose Game received positive reviews, with critics praising its gameplay and humour. The game received the D.I.C.E. Award for Game of the Year and the Game Developers Choice Award for Game of the Year, among other accolades. Dan Golding, who curated the game music, was nominated for an ARIA award. By the end of 2019, Untitled Goose Game had sold more than a million copies. \");\n",
    "gp.close()"
   ]
  },
  {
   "cell_type": "code",
   "execution_count": null,
   "metadata": {
    "colab": {
     "base_uri": "https://localhost:8080/"
    },
    "id": "zM3UfthWaMhC",
    "outputId": "f6f70361-e91a-48a4-fba4-5388894ced0c"
   },
   "outputs": [
    {
     "name": "stdout",
     "output_type": "stream",
     "text": [
      "[('the', 13), ('of', 6), ('and', 6), ('a', 6), ('Game', 6), ('for', 5), ('to', 4), ('game', 4), ('The', 3), ('by', 3), ('Goose', 3), ('Untitled', 3), ('Year', 2), ('Award', 2), ('received', 2), ('music', 2), ('from', 2), ('was', 2), ('with', 2), ('an', 2), ('Players', 2), ('House', 2), ('stealth', 2), ('2019', 2), ('', 1), ('copies', 1), ('million', 1), ('than', 1), ('more', 1), ('sold', 1), ('had', 1), ('end', 1), ('By', 1), ('award', 1), ('ARIA', 1), ('nominated', 1), ('curated', 1), ('who', 1), ('Golding', 1), ('Dan', 1), ('accolades', 1), ('other', 1), ('among', 1), ('Choice', 1), ('Developers', 1), ('DICE', 1), ('humour', 1), ('gameplay', 1), ('its', 1), ('praising', 1), ('critics', 1), ('reviews', 1), ('positive', 1), ('Préludes', 1), (\"Debussy's\", 1), ('Claude', 1), ('six', 1), ('clips', 1), ('short', 1), ('uses', 1), ('festival', 1), ('games', 1), ('entry', 1), ('preparation', 1), ('during', 1), ('decision', 1), ('last-minute', 1), ('came', 1), ('name', 1), ('unusual', 1), (\"game's\", 1), ('One', 1), ('Xbox', 1), ('4', 1), ('PlayStation', 1), ('Windows', 1), ('Switch', 1), ('Nintendo', 1), ('macOS', 1), ('released', 1), ('It', 1), ('scenarios', 1), ('humorous', 1), ('create', 1), ('violence', 1), ('lack', 1), ('mechanics', 1), ('combines', 1), ('series', 1), ('Hitman', 1), ('64', 1), ('Mario', 1), ('Super', 1), ('Inspired', 1), ('objectives', 1), ('complete', 1), ('characters', 1), ('non-player', 1), ('objects', 1), ('manipulate', 1), ('abilities', 1), (\"goose's\", 1), ('use', 1), ('must', 1), ('village', 1), ('English', 1), ('inhabitants', 1), ('bothers', 1), ('which', 1), ('goose', 1), ('control', 1), ('Inc', 1), ('Panic', 1), ('published', 1), ('developed', 1), ('video', 1), ('puzzle', 1), ('indie', 1), ('is', 1)]\n"
     ]
    }
   ],
   "source": [
    "r_file = open(\"paragraph.txt\" , \"r\")\n",
    "wlist = r_file.read().replace(',','').replace('.','').split(' ')\n",
    "fqw = {}\n",
    "for w in wlist:\n",
    "    fqw[w] = fqw.get(w,0) + 1\n",
    "fqw_l =list(fqw.items())\n",
    "fqw_l.sort(key = lambda v : v[1])\n",
    "fqw_l.reverse()\n",
    "print(fqw_l)\n",
    "r_file.close()"
   ]
  },
  {
   "cell_type": "code",
   "execution_count": null,
   "metadata": {
    "colab": {
     "base_uri": "https://localhost:8080/"
    },
    "id": "KAJK2AvDdf0B",
    "outputId": "e68c1534-4d2f-4817-8e99-5c29a504962a"
   },
   "outputs": [
    {
     "name": "stdout",
     "output_type": "stream",
     "text": [
      "percentages :\n",
      "Nived : 40.0 80.0 100.0\n",
      "Nora : 70.0 80.0 100.0\n",
      "Philip : 80.0 90.0 100.0\n",
      "Rahul : 100.0 80.0 100.0\n",
      "\n",
      "Passed students :\n",
      "Nora\n",
      "Philip\n",
      "Rahul\n",
      "\n",
      "Students with 80 :\n",
      "Philip\n",
      "Rahul\n",
      "\n",
      "Pass percentage Subject  1 : 75.0\n",
      "Pass percentage Subject  2 : 100.0\n",
      "Pass percentage Subject  3 : 100.0\n"
     ]
    }
   ],
   "source": [
    "w_file = open(\"stud.dat\",\"w\")\n",
    "w_file.write(\"55|Nived|20|40|50\\n\")\n",
    "w_file.write(\"56|Nora|35|40|50\\n\")\n",
    "w_file.write(\"57|Philip|40|45|50\\n\")\n",
    "w_file.write(\"58|Rahul|50|40|50\\n\")\n",
    "w_file.close()\n",
    "\n",
    "names = {}\n",
    "marks = {}\n",
    "is_passed = {}\n",
    "has_80 = {}\n",
    "passed = [0,0,0]\n",
    "total = 0\n",
    "r_file = open(\"stud.dat\",\"r\")\n",
    "r_bfr = r_file.readlines()\n",
    "print(\"percentages :\")\n",
    "for line in r_bfr:\n",
    "    total = total + 1\n",
    "    stud = line.replace('\\n','').split('|')\n",
    "    names[stud[0]] = stud[1]\n",
    "    m1 = int(stud[2])\n",
    "    m2 = int(stud[3])\n",
    "    m3 = int(stud[4])\n",
    "    if m1>=25 :\n",
    "        passed[0] = passed[0] +1\n",
    "    if m2>=25 :\n",
    "        passed[1] = passed[1] +1\n",
    "    if m3>=25 :\n",
    "        passed[2] = passed[2] +1\n",
    "    p1 = m1/50 * 100\n",
    "    p2 = m2/50 * 100\n",
    "    p3 = m3/50 * 100\n",
    "    print(stud[1], end=\" : \")\n",
    "    print(p1,p2,p3)\n",
    "    if( m1 >= 25 and m2 >= 25 and m3 >= 25 ):\n",
    "        is_passed[stud[0]] = True\n",
    "    marks[stud[0]] = m1+m2+m3\n",
    "    if( p1 >= 80 and p2 >= 80 and p2 >= 80 ):\n",
    "        has_80[stud[0]] = True\n",
    "print()\n",
    "print(\"Passed students :\")\n",
    "passed_rn = list(is_passed.keys())\n",
    "for student in passed_rn:\n",
    "    print(names[student])\n",
    "print()\n",
    "print(\"Students with 80 :\")\n",
    "h_80 = list(has_80.keys())\n",
    "for student in h_80:\n",
    "    print(names[student])\n",
    "print()\n",
    "for i in range (0,3):\n",
    "     print(\"Pass percentage Subject \",i+1 ,\":\", passed[i]/total *100)"
   ]
  },
  {
   "cell_type": "code",
   "execution_count": null,
   "metadata": {
    "id": "2p7PCm7ani0D"
   },
   "outputs": [],
   "source": [
    "w_file = open(\"text.txt\",\"w\")\n",
    "w_file.write(\"Hello World\")\n",
    "w_file.close()"
   ]
  },
  {
   "cell_type": "code",
   "execution_count": null,
   "metadata": {
    "colab": {
     "base_uri": "https://localhost:8080/"
    },
    "id": "TcRCmNUEeSKH",
    "outputId": "f2e88f58-8265-4225-fada-26d027a1d112"
   },
   "outputs": [
    {
     "name": "stdout",
     "output_type": "stream",
     "text": [
      "khoor zruog\n"
     ]
    }
   ],
   "source": [
    "r_file = open(\"text.txt\",\"r+\")\n",
    "r_buffer = r_file.read()\n",
    "s_buffer = []\n",
    "s = \"abcdefghijklmnopqrstuvwxyz\"\n",
    "for c in r_buffer:\n",
    "    c = c.lower()\n",
    "    if(c.isalpha()):\n",
    "        p = s.find(c)\n",
    "        p=(p+3)%26\n",
    "        s_buffer.append(s[p])\n",
    "    else:\n",
    "        s_buffer.append(c)\n",
    "r_file.seek(0)\n",
    "for c in s_buffer:\n",
    "    r_file.write(c)\n",
    "r_file.seek(0)\n",
    "print(r_file.read())"
   ]
  },
  {
   "cell_type": "code",
   "execution_count": 11,
   "metadata": {
    "id": "MhSsLGtppYjl"
   },
   "outputs": [],
   "source": [
    "src_img = open(\"sample.jpg\",\"rb\")\n",
    "dest = open(\"copy.jpeg\",\"wb\")\n",
    "\n",
    "rb_size = 4096\n",
    "\n",
    "while True:\n",
    "    towrite = src_img.read(rb_size)\n",
    "    if not towrite:\n",
    "        break\n",
    "    dest.write(towrite)\n",
    "src_img.close()\n",
    "dest.close()"
   ]
  },
  {
   "cell_type": "code",
   "execution_count": 48,
   "metadata": {},
   "outputs": [
    {
     "name": "stdout",
     "output_type": "stream",
     "text": [
      "e\n",
      "\n",
      "\n",
      "\n",
      "\n"
     ]
    }
   ],
   "source": [
    "w_file = open(\"text.txt\",\"w\")\n",
    "w_file.write(\"Hello world , python file\")\n",
    "w_file.close()\n",
    "r_file = open(\"text.txt\",\"r\")\n",
    "r_file.read()\n",
    "fsize = r_file.tell()\n",
    "r_file.seek(fsize -1)\n",
    "for i in range(0,5):\n",
    "    print(r_file.read())\n",
    "    rfile.se"
   ]
  },
  {
   "cell_type": "code",
   "execution_count": null,
   "metadata": {},
   "outputs": [],
   "source": []
  },
  {
   "cell_type": "code",
   "execution_count": null,
   "metadata": {},
   "outputs": [],
   "source": []
  }
 ],
 "metadata": {
  "colab": {
   "provenance": []
  },
  "kernelspec": {
   "display_name": "Python [conda env:pyassinment]",
   "language": "python",
   "name": "conda-env-pyassinment-py"
  },
  "language_info": {
   "codemirror_mode": {
    "name": "ipython",
    "version": 3
   },
   "file_extension": ".py",
   "mimetype": "text/x-python",
   "name": "python",
   "nbconvert_exporter": "python",
   "pygments_lexer": "ipython3",
   "version": "3.12.8"
  }
 },
 "nbformat": 4,
 "nbformat_minor": 4
}
